{
 "cells": [
  {
   "cell_type": "code",
   "execution_count": 1,
   "id": "7831c08a",
   "metadata": {
    "_cell_guid": "b1076dfc-b9ad-4769-8c92-a6c4dae69d19",
    "_uuid": "8f2839f25d086af736a60e9eeb907d3b93b6e0e5",
    "execution": {
     "iopub.execute_input": "2024-02-05T21:25:26.566754Z",
     "iopub.status.busy": "2024-02-05T21:25:26.566234Z",
     "iopub.status.idle": "2024-02-05T21:25:27.524527Z",
     "shell.execute_reply": "2024-02-05T21:25:27.523395Z"
    },
    "papermill": {
     "duration": 0.975763,
     "end_time": "2024-02-05T21:25:27.528206",
     "exception": false,
     "start_time": "2024-02-05T21:25:26.552443",
     "status": "completed"
    },
    "tags": []
   },
   "outputs": [
    {
     "name": "stdout",
     "output_type": "stream",
     "text": [
      "/kaggle/input/ransomwaredata/RansomwareData.csv\n"
     ]
    }
   ],
   "source": [
    "# This Python 3 environment comes with many helpful analytics libraries installed\n",
    "# It is defined by the kaggle/python Docker image: https://github.com/kaggle/docker-python\n",
    "# For example, here's several helpful packages to load\n",
    "\n",
    "import numpy as np # linear algebra\n",
    "import pandas as pd # data processing, CSV file I/O (e.g. pd.read_csv)\n",
    "\n",
    "# Input data files are available in the read-only \"../input/\" directory\n",
    "# For example, running this (by clicking run or pressing Shift+Enter) will list all files under the input directory\n",
    "\n",
    "import os\n",
    "for dirname, _, filenames in os.walk('/kaggle/input'):\n",
    "    for filename in filenames:\n",
    "        print(os.path.join(dirname, filename))\n",
    "\n",
    "# You can write up to 20GB to the current directory (/kaggle/working/) that gets preserved as output when you create a version using \"Save & Run All\" \n",
    "# You can also write temporary files to /kaggle/temp/, but they won't be saved outside of the current session"
   ]
  },
  {
   "cell_type": "code",
   "execution_count": 2,
   "id": "ae2d1dc9",
   "metadata": {
    "execution": {
     "iopub.execute_input": "2024-02-05T21:25:27.556149Z",
     "iopub.status.busy": "2024-02-05T21:25:27.554894Z",
     "iopub.status.idle": "2024-02-05T21:25:57.251233Z",
     "shell.execute_reply": "2024-02-05T21:25:57.250104Z"
    },
    "papermill": {
     "duration": 29.713459,
     "end_time": "2024-02-05T21:25:57.254320",
     "exception": false,
     "start_time": "2024-02-05T21:25:27.540861",
     "status": "completed"
    },
    "tags": []
   },
   "outputs": [],
   "source": [
    "import pandas as pd\n",
    "from sklearn.model_selection import train_test_split\n",
    "\n",
    "# Load your dataset\n",
    "your_dataset_path = '/kaggle/input/ransomwaredata/RansomwareData.csv'\n",
    "df = pd.read_csv(your_dataset_path, header=None)"
   ]
  },
  {
   "cell_type": "code",
   "execution_count": 3,
   "id": "4cdb30c1",
   "metadata": {
    "execution": {
     "iopub.execute_input": "2024-02-05T21:25:57.279391Z",
     "iopub.status.busy": "2024-02-05T21:25:57.278971Z",
     "iopub.status.idle": "2024-02-05T21:25:57.287592Z",
     "shell.execute_reply": "2024-02-05T21:25:57.286337Z"
    },
    "papermill": {
     "duration": 0.024383,
     "end_time": "2024-02-05T21:25:57.290364",
     "exception": false,
     "start_time": "2024-02-05T21:25:57.265981",
     "status": "completed"
    },
    "tags": []
   },
   "outputs": [
    {
     "data": {
      "text/plain": [
       "(1524, 30970)"
      ]
     },
     "execution_count": 3,
     "metadata": {},
     "output_type": "execute_result"
    }
   ],
   "source": [
    "df.shape"
   ]
  },
  {
   "cell_type": "code",
   "execution_count": 4,
   "id": "bd84caa2",
   "metadata": {
    "execution": {
     "iopub.execute_input": "2024-02-05T21:25:57.317708Z",
     "iopub.status.busy": "2024-02-05T21:25:57.317247Z",
     "iopub.status.idle": "2024-02-05T21:25:57.332653Z",
     "shell.execute_reply": "2024-02-05T21:25:57.331179Z"
    },
    "papermill": {
     "duration": 0.032287,
     "end_time": "2024-02-05T21:25:57.335370",
     "exception": false,
     "start_time": "2024-02-05T21:25:57.303083",
     "status": "completed"
    },
    "tags": []
   },
   "outputs": [],
   "source": [
    "# Generate column names from (1, 30971)\n",
    "\n",
    "column_names = [str(i) for i in range(1,30971)]\n",
    "df.columns = column_names"
   ]
  },
  {
   "cell_type": "code",
   "execution_count": 5,
   "id": "d6d095aa",
   "metadata": {
    "execution": {
     "iopub.execute_input": "2024-02-05T21:25:57.362076Z",
     "iopub.status.busy": "2024-02-05T21:25:57.361463Z",
     "iopub.status.idle": "2024-02-05T21:26:02.123791Z",
     "shell.execute_reply": "2024-02-05T21:26:02.122654Z"
    },
    "papermill": {
     "duration": 4.778894,
     "end_time": "2024-02-05T21:26:02.126261",
     "exception": false,
     "start_time": "2024-02-05T21:25:57.347367",
     "status": "completed"
    },
    "tags": []
   },
   "outputs": [
    {
     "name": "stdout",
     "output_type": "stream",
     "text": [
      "Duplicate Rows:\n",
      "(0, 30970)\n"
     ]
    }
   ],
   "source": [
    "import pandas as pd\n",
    "\n",
    "# Assuming 'data' is your DataFrame\n",
    "duplicate_rows = df[df.duplicated()]\n",
    "\n",
    "# Display the duplicate rows\n",
    "print(\"Duplicate Rows:\")\n",
    "print(duplicate_rows.shape)\n"
   ]
  },
  {
   "cell_type": "code",
   "execution_count": 6,
   "id": "9c149166",
   "metadata": {
    "execution": {
     "iopub.execute_input": "2024-02-05T21:26:02.151700Z",
     "iopub.status.busy": "2024-02-05T21:26:02.151303Z",
     "iopub.status.idle": "2024-02-05T21:26:02.160058Z",
     "shell.execute_reply": "2024-02-05T21:26:02.158401Z"
    },
    "papermill": {
     "duration": 0.02431,
     "end_time": "2024-02-05T21:26:02.162544",
     "exception": false,
     "start_time": "2024-02-05T21:26:02.138234",
     "status": "completed"
    },
    "tags": []
   },
   "outputs": [
    {
     "data": {
      "text/plain": [
       "Index(['1', '2', '3', '4', '5', '6', '7', '8', '9', '10',\n",
       "       ...\n",
       "       '30961', '30962', '30963', '30964', '30965', '30966', '30967', '30968',\n",
       "       '30969', '30970'],\n",
       "      dtype='object', length=30970)"
      ]
     },
     "execution_count": 6,
     "metadata": {},
     "output_type": "execute_result"
    }
   ],
   "source": [
    "df.columns"
   ]
  },
  {
   "cell_type": "code",
   "execution_count": 7,
   "id": "e56b1ee3",
   "metadata": {
    "execution": {
     "iopub.execute_input": "2024-02-05T21:26:02.189116Z",
     "iopub.status.busy": "2024-02-05T21:26:02.187950Z",
     "iopub.status.idle": "2024-02-05T21:26:02.291720Z",
     "shell.execute_reply": "2024-02-05T21:26:02.290818Z"
    },
    "papermill": {
     "duration": 0.120481,
     "end_time": "2024-02-05T21:26:02.295013",
     "exception": false,
     "start_time": "2024-02-05T21:26:02.174532",
     "status": "completed"
    },
    "tags": []
   },
   "outputs": [
    {
     "name": "stdout",
     "output_type": "stream",
     "text": [
      "Number of columns with 0: (7351,)\n",
      "Number of columns with 1: (0,)\n"
     ]
    }
   ],
   "source": [
    "import pandas as pd\n",
    "\n",
    "# Assuming 'df' is your DataFrame\n",
    "\n",
    "# Columns where all values are 0\n",
    "columns_with_all_zeros = df.columns[(df == 0).all()]\n",
    "\n",
    "# Columns where all values are 1\n",
    "columns_with_all_ones = df.columns[(df == 1).all()]\n",
    "\n",
    "# Display the columns\n",
    "print(\"Number of columns with 0:\", columns_with_all_zeros.shape)\n",
    "print(\"Number of columns with 1:\", columns_with_all_ones.shape)\n"
   ]
  },
  {
   "cell_type": "code",
   "execution_count": 8,
   "id": "91f69adc",
   "metadata": {
    "execution": {
     "iopub.execute_input": "2024-02-05T21:26:02.323579Z",
     "iopub.status.busy": "2024-02-05T21:26:02.322707Z",
     "iopub.status.idle": "2024-02-05T21:26:05.215865Z",
     "shell.execute_reply": "2024-02-05T21:26:05.214572Z"
    },
    "papermill": {
     "duration": 2.910618,
     "end_time": "2024-02-05T21:26:05.218467",
     "exception": false,
     "start_time": "2024-02-05T21:26:02.307849",
     "status": "completed"
    },
    "tags": []
   },
   "outputs": [
    {
     "name": "stdout",
     "output_type": "stream",
     "text": [
      "Nombre total de doublons (en excluant les occurrences originales): 0\n",
      "Nombre de doublons qui sont des ransomwares: 0\n",
      "Nombre de doublons qui sont des goodwares: 0\n"
     ]
    }
   ],
   "source": [
    "\n",
    "# Identifier les doublons basés sur toutes les colonnes (en excluant les occurrences originales)\n",
    "duplicates= df[df.duplicated()]\n",
    "\n",
    "# Compter le nombre total de doublons (en excluant les occurrences originales)\n",
    "total_duplicate_count = duplicates.shape[0]\n",
    "\n",
    "# Compter le nombre de doublons qui sont des ransomwares (colonne '2' égale à 1)\n",
    "ransomware_duplicates_count = duplicates[duplicates['2'] == 1].shape[0]\n",
    "\n",
    "# Compter le nombre de doublons qui sont des goodwares (colonne '2' égale à 0)\n",
    "goodware_duplicates_count = duplicates[duplicates['2'] == 0].shape[0]\n",
    "\n",
    "# Afficher les résultats\n",
    "print(\"Nombre total de doublons (en excluant les occurrences originales):\", total_duplicate_count)\n",
    "print(\"Nombre de doublons qui sont des ransomwares:\", ransomware_duplicates_count)\n",
    "print(\"Nombre de doublons qui sont des goodwares:\", goodware_duplicates_count)\n",
    "\n",
    "\n"
   ]
  },
  {
   "cell_type": "code",
   "execution_count": 9,
   "id": "70054632",
   "metadata": {
    "execution": {
     "iopub.execute_input": "2024-02-05T21:26:05.246295Z",
     "iopub.status.busy": "2024-02-05T21:26:05.245372Z",
     "iopub.status.idle": "2024-02-05T21:26:05.429308Z",
     "shell.execute_reply": "2024-02-05T21:26:05.428165Z"
    },
    "papermill": {
     "duration": 0.201145,
     "end_time": "2024-02-05T21:26:05.432107",
     "exception": false,
     "start_time": "2024-02-05T21:26:05.230962",
     "status": "completed"
    },
    "tags": []
   },
   "outputs": [
    {
     "name": "stdout",
     "output_type": "stream",
     "text": [
      "Nombre  des ransomwares: 582\n",
      "Nombre d des goodwares: 942\n"
     ]
    }
   ],
   "source": [
    "\n",
    "# Compter le nombre de qui sont des ransomwares (colonne '2' égale à 1)\n",
    "ransomware_df_count = df[df['2'] == 1].shape[0]\n",
    "\n",
    "# Compter le nombre de qui sont des goodwares (colonne '2' égale à 0)\n",
    "goodware_df_count = df[df['2'] == 0].shape[0]\n",
    "\n",
    "# Afficher les résultats\n",
    "\n",
    "print(\"Nombre  des ransomwares:\",ransomware_df_count)\n",
    "print(\"Nombre d des goodwares:\",goodware_df_count)\n"
   ]
  },
  {
   "cell_type": "code",
   "execution_count": 10,
   "id": "0a30157e",
   "metadata": {
    "execution": {
     "iopub.execute_input": "2024-02-05T21:26:05.459677Z",
     "iopub.status.busy": "2024-02-05T21:26:05.459259Z",
     "iopub.status.idle": "2024-02-05T21:26:05.658937Z",
     "shell.execute_reply": "2024-02-05T21:26:05.657890Z"
    },
    "papermill": {
     "duration": 0.216408,
     "end_time": "2024-02-05T21:26:05.661378",
     "exception": false,
     "start_time": "2024-02-05T21:26:05.444970",
     "status": "completed"
    },
    "tags": []
   },
   "outputs": [
    {
     "name": "stdout",
     "output_type": "stream",
     "text": [
      "ransomware 582\n",
      "goodware 942\n"
     ]
    }
   ],
   "source": [
    "\n",
    "# Count the number of samples in each class\n",
    "ransomware_df_count = df[df['2'] == 1].shape[0]\n",
    "goodware_df_count = df[df['2'] == 0].shape[0]\n",
    "print(\"ransomware\", ransomware_df_count)\n",
    "print(\"goodware\", goodware_df_count)"
   ]
  },
  {
   "cell_type": "code",
   "execution_count": 11,
   "id": "c818b26f",
   "metadata": {
    "execution": {
     "iopub.execute_input": "2024-02-05T21:26:05.688986Z",
     "iopub.status.busy": "2024-02-05T21:26:05.688180Z",
     "iopub.status.idle": "2024-02-05T21:26:05.694858Z",
     "shell.execute_reply": "2024-02-05T21:26:05.693943Z"
    },
    "papermill": {
     "duration": 0.02278,
     "end_time": "2024-02-05T21:26:05.697019",
     "exception": false,
     "start_time": "2024-02-05T21:26:05.674239",
     "status": "completed"
    },
    "tags": []
   },
   "outputs": [
    {
     "data": {
      "text/plain": [
       "Index(['1', '2', '3', '4', '5', '6', '7', '8', '9', '10',\n",
       "       ...\n",
       "       '30961', '30962', '30963', '30964', '30965', '30966', '30967', '30968',\n",
       "       '30969', '30970'],\n",
       "      dtype='object', length=30970)"
      ]
     },
     "execution_count": 11,
     "metadata": {},
     "output_type": "execute_result"
    }
   ],
   "source": [
    "df.columns"
   ]
  },
  {
   "cell_type": "code",
   "execution_count": 12,
   "id": "7ee30452",
   "metadata": {
    "execution": {
     "iopub.execute_input": "2024-02-05T21:26:05.725122Z",
     "iopub.status.busy": "2024-02-05T21:26:05.724311Z",
     "iopub.status.idle": "2024-02-05T21:26:06.206256Z",
     "shell.execute_reply": "2024-02-05T21:26:06.204827Z"
    },
    "papermill": {
     "duration": 0.499587,
     "end_time": "2024-02-05T21:26:06.208709",
     "exception": false,
     "start_time": "2024-02-05T21:26:05.709122",
     "status": "completed"
    },
    "tags": []
   },
   "outputs": [
    {
     "name": "stdout",
     "output_type": "stream",
     "text": [
      "Index(['2', '3', '4', '5', '6', '7', '8', '9', '10', '11', '12', '13', '14',\n",
      "       '15', '16', '17', '18', '19', '20', '21', '22', '23', '24', '25', '26',\n",
      "       '27', '28', '29', '30', '31', '32', '33', '34', '35', '36', '37', '38',\n",
      "       '39', '40', '41', '42', '43', '44', '45', '46', '47', '48', '49', '50',\n",
      "       '51', '52', '53', '54', '55', '56'],\n",
      "      dtype='object')\n",
      "Index(['2', '3', '4', '5', '6', '7', '8', '9', '10', '11', '12', '13', '14',\n",
      "       '15', '16', '17', '18', '19', '20', '21', '22', '23', '24', '25', '26',\n",
      "       '27', '28', '29', '30', '31', '32', '34', '35', '36', '37', '38', '39',\n",
      "       '40', '41', '42', '43', '44', '45', '46', '47', '48', '49', '50', '51',\n",
      "       '53', '54', '55', '56', '57', '58'],\n",
      "      dtype='object')\n"
     ]
    }
   ],
   "source": [
    "df = df.drop(columns=['1'])\n",
    "# Drop the first column as instructed\n",
    "\n",
    "print(df.columns[:55])\n",
    "# Use the `all()` function to check if all values in each column are 0\n",
    "zero_columns = df.columns[df.eq(0).all()]\n",
    "\n",
    "# Drop columns with all zeros\n",
    "data = df.drop(zero_columns, axis=1)\n",
    "\n",
    "# Display the names of the remaining columns\n",
    "print(data.columns[:55])\n",
    "\n"
   ]
  },
  {
   "cell_type": "code",
   "execution_count": 13,
   "id": "6c20049f",
   "metadata": {
    "execution": {
     "iopub.execute_input": "2024-02-05T21:26:06.236035Z",
     "iopub.status.busy": "2024-02-05T21:26:06.235538Z",
     "iopub.status.idle": "2024-02-05T21:26:07.808713Z",
     "shell.execute_reply": "2024-02-05T21:26:07.807274Z"
    },
    "papermill": {
     "duration": 1.590327,
     "end_time": "2024-02-05T21:26:07.811437",
     "exception": false,
     "start_time": "2024-02-05T21:26:06.221110",
     "status": "completed"
    },
    "tags": []
   },
   "outputs": [
    {
     "name": "stdout",
     "output_type": "stream",
     "text": [
      "Original DataFrame shape: (1524, 23618)\n",
      "DataFrame shape after feature selection: (1524, 931)\n",
      "Selected DataFrame:\n",
      "   2  3  4  6  8  9  10  11  12  14  ...  29079  29218  29287  29758  29769  \\\n",
      "0  1  2  0  0  0  0   0   0   0   0  ...      0      0      0      0      0   \n",
      "1  1  3  1  1  1  0   1   0   0   0  ...      0      0      0      0      0   \n",
      "2  1  2  0  0  0  0   0   0   0   0  ...      0      0      0      0      1   \n",
      "3  1  5  0  0  1  0   0   0   0   0  ...      0      0      0      0      1   \n",
      "4  1  7  1  1  0  1   1   0   1   0  ...      0      0      0      0      0   \n",
      "\n",
      "   29770  29796  29903  30200  30285  \n",
      "0      0      0      0      0      0  \n",
      "1      0      0      0      0      0  \n",
      "2      0      0      0      0      0  \n",
      "3      0      0      0      1      0  \n",
      "4      0      0      0      0      0  \n",
      "\n",
      "[5 rows x 931 columns]\n"
     ]
    }
   ],
   "source": [
    "from sklearn.feature_selection import VarianceThreshold\n",
    "import pandas as pd\n",
    "\n",
    "# Display the original DataFrame shape\n",
    "print(\"Original DataFrame shape:\", data.shape)\n",
    "\n",
    "# Initialize VarianceThreshold with a threshold value (you can adjust this value)\n",
    "threshold_value = 0.01  # You may adjust this threshold\n",
    "variance_selector = VarianceThreshold(threshold=threshold_value)\n",
    "\n",
    "# Fit and transform the selector on the entire dataset\n",
    "selected_data = variance_selector.fit_transform(data)\n",
    "\n",
    "# Get the indices of the features to keep\n",
    "selected_features_indices = variance_selector.get_support(indices=True)\n",
    "\n",
    "# Keep the selected features in the DataFrame\n",
    "selected_columns = list(data.columns[selected_features_indices])\n",
    "selected_df = pd.DataFrame(selected_data, columns=selected_columns)\n",
    "\n",
    "# Display the shape of the DataFrame after feature selection\n",
    "print(\"DataFrame shape after feature selection:\", selected_df.shape)\n",
    "\n",
    "# Display the selected DataFrame\n",
    "print(\"Selected DataFrame:\")\n",
    "print(selected_df.head())\n",
    "\n"
   ]
  },
  {
   "cell_type": "code",
   "execution_count": 14,
   "id": "e3147ac8",
   "metadata": {
    "execution": {
     "iopub.execute_input": "2024-02-05T21:26:07.839543Z",
     "iopub.status.busy": "2024-02-05T21:26:07.839011Z",
     "iopub.status.idle": "2024-02-05T21:26:07.847646Z",
     "shell.execute_reply": "2024-02-05T21:26:07.846487Z"
    },
    "papermill": {
     "duration": 0.026106,
     "end_time": "2024-02-05T21:26:07.850252",
     "exception": false,
     "start_time": "2024-02-05T21:26:07.824146",
     "status": "completed"
    },
    "tags": []
   },
   "outputs": [
    {
     "data": {
      "text/plain": [
       "Index(['2', '3', '4', '6', '8', '9', '10', '11', '12', '14',\n",
       "       ...\n",
       "       '29079', '29218', '29287', '29758', '29769', '29770', '29796', '29903',\n",
       "       '30200', '30285'],\n",
       "      dtype='object', length=931)"
      ]
     },
     "execution_count": 14,
     "metadata": {},
     "output_type": "execute_result"
    }
   ],
   "source": [
    "selected_df.columns\n"
   ]
  },
  {
   "cell_type": "code",
   "execution_count": 15,
   "id": "34df28cd",
   "metadata": {
    "execution": {
     "iopub.execute_input": "2024-02-05T21:26:07.879020Z",
     "iopub.status.busy": "2024-02-05T21:26:07.878533Z",
     "iopub.status.idle": "2024-02-05T21:26:07.887181Z",
     "shell.execute_reply": "2024-02-05T21:26:07.885607Z"
    },
    "papermill": {
     "duration": 0.026129,
     "end_time": "2024-02-05T21:26:07.889722",
     "exception": false,
     "start_time": "2024-02-05T21:26:07.863593",
     "status": "completed"
    },
    "tags": []
   },
   "outputs": [],
   "source": [
    "from sklearn.model_selection import train_test_split\n",
    "\n",
    "# Define the unseen and seen class IDs\n",
    "unseen_classes_ids = [8, 9, 11]  # IDs of unseen ransomware classes\n",
    "seen_classes_ids = [1, 2, 3, 4, 5, 6, 7, 10]  # IDs of seen ransomware classes plus goodware\n",
    "# Use .loc to create the 'Label' column without the SettingWithCopyWarning\n",
    "selected_df.loc[:, 'Label'] = selected_df['3'].astype(int)\n"
   ]
  },
  {
   "cell_type": "code",
   "execution_count": 16,
   "id": "09beccce",
   "metadata": {
    "execution": {
     "iopub.execute_input": "2024-02-05T21:26:07.918366Z",
     "iopub.status.busy": "2024-02-05T21:26:07.917913Z",
     "iopub.status.idle": "2024-02-05T21:26:07.986873Z",
     "shell.execute_reply": "2024-02-05T21:26:07.985427Z"
    },
    "papermill": {
     "duration": 0.086615,
     "end_time": "2024-02-05T21:26:07.989614",
     "exception": false,
     "start_time": "2024-02-05T21:26:07.902999",
     "status": "completed"
    },
    "tags": []
   },
   "outputs": [],
   "source": [
    "# Separate the unseen ransomware data\n",
    "unseen_ransomware_data = selected_df[selected_df['Label'].isin(unseen_classes_ids)].copy()\n",
    "\n",
    "# Separate the seen ransomware data\n",
    "seen_ransomware_data = selected_df[~selected_df['Label'].isin(unseen_classes_ids + [0])].copy()\n",
    "\n",
    "# Goodware samples\n",
    "goodware_data = selected_df[selected_df['Label'] == 0].copy()\n",
    "\n",
    "goodware_data = goodware_data.sample(frac=1, random_state=42).reset_index(drop=True)\n",
    "\n",
    "# Now we split the goodware data based on the count needed for the training set\n",
    "goodware_train = goodware_data.iloc[:809, :].copy()\n",
    "goodware_unseen = goodware_data.iloc[809:, :].copy()\n",
    "\n",
    "train_data = pd.concat([seen_ransomware_data, goodware_train])\n",
    "\n",
    "# Split the train data into actual training and validation sets\n",
    "y_train = train_data['2']\n",
    "X_train = train_data.drop(columns=['2', 'Label', '3'])\n",
    "\n",
    "# Use .loc to avoid the SettingWithCopyWarning\n",
    "X_train, X_validate, y_train, y_validate = train_test_split(\n",
    "    X_train, y_train, test_size=(257/1257), stratify=y_train, random_state=42  # ~20% for validation to make a total of 1257\n",
    ")\n",
    "\n",
    "# Prepare the unseen data\n",
    "unseen_data = pd.concat([unseen_ransomware_data, goodware_unseen])\n",
    "y_unseen = unseen_data['2']\n",
    "X_unseen = unseen_data.drop(columns=['2', 'Label', '3'])"
   ]
  },
  {
   "cell_type": "code",
   "execution_count": 17,
   "id": "41e02ce8",
   "metadata": {
    "execution": {
     "iopub.execute_input": "2024-02-05T21:26:08.017883Z",
     "iopub.status.busy": "2024-02-05T21:26:08.017095Z",
     "iopub.status.idle": "2024-02-05T21:26:08.585280Z",
     "shell.execute_reply": "2024-02-05T21:26:08.583730Z"
    },
    "papermill": {
     "duration": 0.585025,
     "end_time": "2024-02-05T21:26:08.587664",
     "exception": false,
     "start_time": "2024-02-05T21:26:08.002639",
     "status": "completed"
    },
    "tags": []
   },
   "outputs": [
    {
     "name": "stdout",
     "output_type": "stream",
     "text": [
      "Accuracy on Validation Set: 0.98\n",
      "Accuracy on Unseen Data: 0.95\n",
      "Confusion Matrix on Unseen Data:\n",
      "     0    1\n",
      "0  130    3\n",
      "1   11  117\n",
      "Classification Report on Unseen Data:\n",
      "              precision    recall  f1-score   support\n",
      "\n",
      "           0       0.92      0.98      0.95       133\n",
      "           1       0.97      0.91      0.94       128\n",
      "\n",
      "    accuracy                           0.95       261\n",
      "   macro avg       0.95      0.95      0.95       261\n",
      "weighted avg       0.95      0.95      0.95       261\n",
      "\n"
     ]
    }
   ],
   "source": [
    "from sklearn.ensemble import RandomForestClassifier\n",
    "from sklearn.metrics import accuracy_score, confusion_matrix, classification_report\n",
    "\n",
    "\n",
    "# Assuming X_train, X_validate, y_train, X_unseen, and y_unseen are already defined from the previous code\n",
    "\n",
    "# Initialize the Random Forest classifier\n",
    "rf_classif = RandomForestClassifier(n_estimators=100, random_state=42)\n",
    "\n",
    "# Train the classifier on the training set\n",
    "rf_classif.fit(X_train, y_train)\n",
    "\n",
    "# Make predictions on the validation set\n",
    "y_validate_pred = rf_classif.predict(X_validate)\n",
    "\n",
    "# Evaluate the accuracy of the model on the validation set\n",
    "accuracy_validate = accuracy_score(y_validate, y_validate_pred)\n",
    "print(f\"Accuracy on Validation Set: {accuracy_validate:.2f}\")\n",
    "\n",
    "# Make predictions on the unseen data\n",
    "y_unseen_pred = rf_classif.predict(X_unseen)\n",
    "\n",
    "# Evaluate the accuracy of the model on the unseen data\n",
    "accuracy_unseen = accuracy_score(y_unseen, y_unseen_pred)\n",
    "print(f\"Accuracy on Unseen Data: {accuracy_unseen:.2f}\")\n",
    "\n",
    "# Generate and display the confusion matrix for the unseen data\n",
    "conf_matrix_unseen = confusion_matrix(y_unseen, y_unseen_pred)\n",
    "print(\"Confusion Matrix on Unseen Data:\")\n",
    "print(pd.DataFrame(conf_matrix_unseen, index=rf_classif.classes_, columns=rf_classif.classes_))\n",
    "\n",
    "# Display the classification report for the unseen data\n",
    "print(\"Classification Report on Unseen Data:\")\n",
    "print(classification_report(y_unseen, y_unseen_pred))\n"
   ]
  },
  {
   "cell_type": "code",
   "execution_count": 18,
   "id": "79f962a4",
   "metadata": {
    "execution": {
     "iopub.execute_input": "2024-02-05T21:26:08.616385Z",
     "iopub.status.busy": "2024-02-05T21:26:08.615602Z",
     "iopub.status.idle": "2024-02-05T21:26:08.635693Z",
     "shell.execute_reply": "2024-02-05T21:26:08.634703Z"
    },
    "papermill": {
     "duration": 0.03745,
     "end_time": "2024-02-05T21:26:08.638377",
     "exception": false,
     "start_time": "2024-02-05T21:26:08.600927",
     "status": "completed"
    },
    "tags": []
   },
   "outputs": [
    {
     "name": "stdout",
     "output_type": "stream",
     "text": [
      "Top Features:\n",
      "    Feature  Importance\n",
      "821   14267    0.034426\n",
      "828   14747    0.032232\n",
      "83      122    0.031846\n",
      "4        10    0.031172\n",
      "124     170    0.027275\n",
      "176     332    0.019355\n",
      "44       67    0.017027\n",
      "146     200    0.015819\n",
      "777   12043    0.015283\n",
      "107     151    0.015028\n",
      "750   11686    0.014585\n",
      "143     196    0.014195\n",
      "923   29769    0.013906\n",
      "52       77    0.013356\n",
      "56       84    0.012886\n",
      "882   23286    0.012817\n",
      "863   20049    0.011589\n",
      "741   11587    0.010651\n",
      "72      104    0.010205\n",
      "872   21986    0.009931\n",
      "306    2018    0.009732\n",
      "55       82    0.009481\n",
      "125     171    0.009470\n",
      "138     190    0.008974\n",
      "670    7121    0.008713\n",
      "118     164    0.008688\n",
      "894   24730    0.008328\n",
      "768   11928    0.007826\n",
      "37       57    0.007401\n",
      "28       44    0.007329\n",
      "492    3965    0.006807\n",
      "169     232    0.006603\n",
      "790   12244    0.006488\n",
      "189     543    0.006389\n",
      "461    3668    0.006137\n",
      "113     159    0.006111\n",
      "852   18253    0.006004\n",
      "682    7982    0.005787\n",
      "16       25    0.005719\n",
      "649    5574    0.005587\n",
      "10       17    0.005476\n",
      "26       39    0.005384\n",
      "289    1807    0.005346\n",
      "282    1759    0.005163\n",
      "90      132    0.005080\n",
      "164     227    0.004927\n",
      "869   21004    0.004888\n",
      "618    5287    0.004789\n",
      "363    2605    0.004631\n",
      "57       85    0.004609\n"
     ]
    }
   ],
   "source": [
    "# Get feature importances\n",
    "feature_importances = rf_classif.feature_importances_\n",
    "\n",
    "# Create a DataFrame with feature names and their importance scores\n",
    "feature_importance_df = pd.DataFrame({\n",
    "    'Feature': X_train.columns,\n",
    "    'Importance': feature_importances\n",
    "})\n",
    "\n",
    "# Sort the DataFrame by importance in descending order\n",
    "feature_importance_df = feature_importance_df.sort_values(by='Importance', ascending=False)\n",
    "\n",
    "# Display the top features\n",
    "print(\"Top Features:\")\n",
    "print(feature_importance_df.head(50))"
   ]
  },
  {
   "cell_type": "code",
   "execution_count": 19,
   "id": "9d61d363",
   "metadata": {
    "execution": {
     "iopub.execute_input": "2024-02-05T21:26:08.666624Z",
     "iopub.status.busy": "2024-02-05T21:26:08.665931Z",
     "iopub.status.idle": "2024-02-05T21:26:08.673033Z",
     "shell.execute_reply": "2024-02-05T21:26:08.671544Z"
    },
    "papermill": {
     "duration": 0.024743,
     "end_time": "2024-02-05T21:26:08.675960",
     "exception": false,
     "start_time": "2024-02-05T21:26:08.651217",
     "status": "completed"
    },
    "tags": []
   },
   "outputs": [
    {
     "name": "stdout",
     "output_type": "stream",
     "text": [
      "Top Feature Names:\n",
      "['14267', '14747', '122', '10', '170', '332', '67', '200', '12043', '151', '11686', '196', '29769', '77', '84', '23286', '20049', '11587', '104', '21986', '2018', '82', '171', '190', '7121']\n"
     ]
    }
   ],
   "source": [
    "\n",
    "# Display only the names of the top features\n",
    "top_feature_names = feature_importance_df['Feature'].head(25).tolist()\n",
    "print(\"Top Feature Names:\")\n",
    "print(top_feature_names)"
   ]
  },
  {
   "cell_type": "markdown",
   "id": "aacc8bb8",
   "metadata": {
    "papermill": {
     "duration": 0.013854,
     "end_time": "2024-02-05T21:26:08.704065",
     "exception": false,
     "start_time": "2024-02-05T21:26:08.690211",
     "status": "completed"
    },
    "tags": []
   },
   "source": [
    "# # **Now we will work with the Top 25 features with high Importance**"
   ]
  },
  {
   "cell_type": "code",
   "execution_count": 20,
   "id": "64724d36",
   "metadata": {
    "execution": {
     "iopub.execute_input": "2024-02-05T21:26:08.734293Z",
     "iopub.status.busy": "2024-02-05T21:26:08.733467Z",
     "iopub.status.idle": "2024-02-05T21:26:08.750831Z",
     "shell.execute_reply": "2024-02-05T21:26:08.749050Z"
    },
    "papermill": {
     "duration": 0.03555,
     "end_time": "2024-02-05T21:26:08.753601",
     "exception": false,
     "start_time": "2024-02-05T21:26:08.718051",
     "status": "completed"
    },
    "tags": []
   },
   "outputs": [
    {
     "name": "stdout",
     "output_type": "stream",
     "text": [
      "   2  3  14267  14747  122  10  170  332  67  200  ...  23286  20049  11587  \\\n",
      "0  1  2      0      1    0   0    0    0   0    0  ...      0      0      0   \n",
      "1  1  3      0      0    0   1    0    0   0    1  ...      0      0      1   \n",
      "2  1  2      0      1    0   0    0    0   0    0  ...      0      0      0   \n",
      "3  1  5      0      1    0   0    0    0   0    0  ...      0      0      0   \n",
      "4  1  7      0      0    0   1    0    0   1    1  ...      0      0      1   \n",
      "\n",
      "   104  21986  2018  82  171  190  7121  \n",
      "0    0      0     0   0    0    0     0  \n",
      "1    0      0     0   0    1    0     0  \n",
      "2    0      1     0   0    0    0     0  \n",
      "3    0      0     0   0    0    0     0  \n",
      "4    0      0     0   0    1    1     0  \n",
      "\n",
      "[5 rows x 27 columns]\n"
     ]
    }
   ],
   "source": [
    "# List of Top Feature Names\n",
    "top_feature_names = ['14267', '14747', '122', '10', '170', '332', '67', '200', '12043', '151', '11686', '196', '29769', '77', '84', '23286', '20049', '11587', '104', '21986', '2018', '82', '171', '190', '7121']\n",
    "\n",
    "# Add columns '2' and '3' to the list of columns to extract\n",
    "columns_to_extract = ['2', '3'] + top_feature_names \n",
    "\n",
    "# Extract selected columns from the DataFrame\n",
    "\n",
    "selected_features_df = pd.DataFrame(selected_df, columns=columns_to_extract)\n",
    "\n",
    "\n",
    "# Display the extracted DataFrame\n",
    "print(selected_features_df.head())\n"
   ]
  },
  {
   "cell_type": "code",
   "execution_count": 21,
   "id": "23b964da",
   "metadata": {
    "execution": {
     "iopub.execute_input": "2024-02-05T21:26:08.783704Z",
     "iopub.status.busy": "2024-02-05T21:26:08.783251Z",
     "iopub.status.idle": "2024-02-05T21:26:08.791375Z",
     "shell.execute_reply": "2024-02-05T21:26:08.789904Z"
    },
    "papermill": {
     "duration": 0.02638,
     "end_time": "2024-02-05T21:26:08.793917",
     "exception": false,
     "start_time": "2024-02-05T21:26:08.767537",
     "status": "completed"
    },
    "tags": []
   },
   "outputs": [],
   "source": [
    "from sklearn.model_selection import train_test_split\n",
    "# Define the unseen and seen class IDs\n",
    "unseen_classes_ids = [8, 9, 11]  # IDs of unseen ransomware classes\n",
    "seen_classes_ids = [1, 2, 3, 4, 5, 6, 7, 10]  # IDs of seen ransomware classes plus goodware\n",
    "# Use .loc to create the 'Label' column without the SettingWithCopyWarning\n",
    "selected_features_df.loc[:, 'Label'] = selected_features_df['3'].astype(int)\n",
    "\n"
   ]
  },
  {
   "cell_type": "code",
   "execution_count": 22,
   "id": "4a32bbd6",
   "metadata": {
    "execution": {
     "iopub.execute_input": "2024-02-05T21:26:08.824606Z",
     "iopub.status.busy": "2024-02-05T21:26:08.823795Z",
     "iopub.status.idle": "2024-02-05T21:26:08.846529Z",
     "shell.execute_reply": "2024-02-05T21:26:08.845305Z"
    },
    "papermill": {
     "duration": 0.04172,
     "end_time": "2024-02-05T21:26:08.849359",
     "exception": false,
     "start_time": "2024-02-05T21:26:08.807639",
     "status": "completed"
    },
    "tags": []
   },
   "outputs": [],
   "source": [
    "# Separate the unseen ransomware data\n",
    "unseen_ransomware_data1 = selected_features_df[selected_features_df['Label'].isin(unseen_classes_ids)].copy()\n",
    "\n",
    "# Separate the seen ransomware data\n",
    "seen_ransomware_data1 = selected_features_df[~selected_features_df['Label'].isin(unseen_classes_ids + [0])].copy()\n",
    "\n",
    "# Goodware samples\n",
    "goodware_data1 = selected_features_df[selected_features_df['Label'] == 0].copy()\n",
    "\n",
    "goodware_data1 = goodware_data1.sample(frac=1, random_state=42).reset_index(drop=True)\n",
    "\n",
    "# Now we split the goodware data based on the count needed for the training set\n",
    "goodware_train1 = goodware_data1.iloc[:809, :].copy()\n",
    "goodware_unseen1 = goodware_data1.iloc[809:, :].copy()\n",
    "\n",
    "train_data1 = pd.concat([seen_ransomware_data1, goodware_train1])\n",
    "\n",
    "# Split the train data into actual training and validation sets\n",
    "y_train1 = train_data1['2']\n",
    "X_train1 = train_data1.drop(columns=['2', 'Label', '3'])\n",
    "\n",
    "# Use .loc to avoid the SettingWithCopyWarning\n",
    "X_train1, X_validate1, y_train1, y_validate1= train_test_split(\n",
    "    X_train1, y_train1, test_size=(257/1257), stratify=y_train1, random_state=42  # ~20% for validation to make a total of 1257\n",
    ")\n",
    "\n",
    "# Prepare the unseen data\n",
    "unseen_data1 = pd.concat([unseen_ransomware_data1, goodware_unseen1])\n",
    "y_unseen1 = unseen_data1['2']\n",
    "X_unseen1 = unseen_data1.drop(columns=['2', 'Label', '3'])"
   ]
  },
  {
   "cell_type": "code",
   "execution_count": 23,
   "id": "a2d4fa4c",
   "metadata": {
    "execution": {
     "iopub.execute_input": "2024-02-05T21:26:08.881149Z",
     "iopub.status.busy": "2024-02-05T21:26:08.879198Z",
     "iopub.status.idle": "2024-02-05T21:26:09.215277Z",
     "shell.execute_reply": "2024-02-05T21:26:09.213876Z"
    },
    "papermill": {
     "duration": 0.355435,
     "end_time": "2024-02-05T21:26:09.219013",
     "exception": false,
     "start_time": "2024-02-05T21:26:08.863578",
     "status": "completed"
    },
    "tags": []
   },
   "outputs": [
    {
     "name": "stdout",
     "output_type": "stream",
     "text": [
      "Accuracy on Validation Set: 0.97\n",
      "Confusion Matrix on Validation Set:\n",
      "     0   1\n",
      "0  164   2\n",
      "1    5  88\n",
      "Classification Report on Validation Set:\n",
      "              precision    recall  f1-score   support\n",
      "\n",
      "           0       0.97      0.99      0.98       166\n",
      "           1       0.98      0.95      0.96        93\n",
      "\n",
      "    accuracy                           0.97       259\n",
      "   macro avg       0.97      0.97      0.97       259\n",
      "weighted avg       0.97      0.97      0.97       259\n",
      "\n",
      "Accuracy on Unseen Data: 0.95\n",
      "Confusion Matrix on Unseen Data:\n",
      "     0    1\n",
      "0  130    3\n",
      "1   10  118\n",
      "Classification Report on Unseen Data:\n",
      "              precision    recall  f1-score   support\n",
      "\n",
      "           0       0.93      0.98      0.95       133\n",
      "           1       0.98      0.92      0.95       128\n",
      "\n",
      "    accuracy                           0.95       261\n",
      "   macro avg       0.95      0.95      0.95       261\n",
      "weighted avg       0.95      0.95      0.95       261\n",
      "\n"
     ]
    }
   ],
   "source": [
    "from sklearn.ensemble import RandomForestClassifier\n",
    "from sklearn.metrics import accuracy_score, confusion_matrix, classification_report\n",
    "\n",
    "# Assuming X_train, X_validate, y_train, X_unseen, and y_unseen are already defined from the previous code\n",
    "\n",
    "# Initialize the Random Forest classifier\n",
    "rf_classif1 = RandomForestClassifier(n_estimators=100, random_state=42)\n",
    "\n",
    "# Train the classifier on the training set\n",
    "rf_classif1.fit(X_train1, y_train1)\n",
    "\n",
    "# Make predictions on the validation set\n",
    "y_validate_pred1 = rf_classif1.predict(X_validate1)\n",
    "\n",
    "# Evaluate the accuracy of the model on the validation set\n",
    "accuracy_validate1 = accuracy_score(y_validate1, y_validate_pred1)\n",
    "print(f\"Accuracy on Validation Set: {accuracy_validate1:.2f}\")\n",
    "\n",
    "# Generate and display the confusion matrix for the validation set\n",
    "conf_matrix_validate1 = confusion_matrix(y_validate1, y_validate_pred1)\n",
    "print(\"Confusion Matrix on Validation Set:\")\n",
    "print(pd.DataFrame(conf_matrix_validate1, index=rf_classif1.classes_, columns=rf_classif1.classes_))\n",
    "\n",
    "# Display the classification report for the validation set\n",
    "print(\"Classification Report on Validation Set:\")\n",
    "print(classification_report(y_validate1, y_validate_pred1))\n",
    "\n",
    "# Make predictions on the unseen data\n",
    "y_unseen_pred1 = rf_classif1.predict(X_unseen1)\n",
    "\n",
    "# Evaluate the accuracy of the model on the unseen data\n",
    "accuracy_unseen1 = accuracy_score(y_unseen1, y_unseen_pred1)\n",
    "print(f\"Accuracy on Unseen Data: {accuracy_unseen1:.2f}\")\n",
    "\n",
    "# Generate and display the confusion matrix for the unseen data\n",
    "conf_matrix_unseen1 = confusion_matrix(y_unseen1, y_unseen_pred1)\n",
    "print(\"Confusion Matrix on Unseen Data:\")\n",
    "print(pd.DataFrame(conf_matrix_unseen1, index=rf_classif1.classes_, columns=rf_classif1.classes_))\n",
    "\n",
    "# Display the classification report for the unseen data\n",
    "print(\"Classification Report on Unseen Data:\")\n",
    "print(classification_report(y_unseen1, y_unseen_pred1))\n"
   ]
  },
  {
   "cell_type": "code",
   "execution_count": 24,
   "id": "e0b2ecdc",
   "metadata": {
    "execution": {
     "iopub.execute_input": "2024-02-05T21:26:09.249569Z",
     "iopub.status.busy": "2024-02-05T21:26:09.249167Z",
     "iopub.status.idle": "2024-02-05T21:26:09.810350Z",
     "shell.execute_reply": "2024-02-05T21:26:09.808591Z"
    },
    "papermill": {
     "duration": 0.582014,
     "end_time": "2024-02-05T21:26:09.815107",
     "exception": false,
     "start_time": "2024-02-05T21:26:09.233093",
     "status": "completed"
    },
    "tags": []
   },
   "outputs": [
    {
     "data": {
      "text/plain": [
       "Text(0.5, 36.72222222222221, 'Predicted')"
      ]
     },
     "execution_count": 24,
     "metadata": {},
     "output_type": "execute_result"
    },
    {
     "data": {
      "image/png": "[encoded data removed]",
      "text/plain": [
       "<Figure size 800x600 with 1 Axes>"
      ]
     },
     "metadata": {},
     "output_type": "display_data"
    }
   ],
   "source": [
    "from sklearn.metrics import confusion_matrix\n",
    "import numpy as np\n",
    "import seaborn as sns\n",
    "import matplotlib.pyplot as plt\n",
    "\n",
    "\n",
    "# Display the confusion matrix\n",
    "plt.figure(figsize=(8, 6))\n",
    "sns.heatmap(conf_matrix_unseen1, annot=True, fmt=\"d\", cmap=\"Blues\", cbar=False,\n",
    "            xticklabels=np.unique(y_unseen1), yticklabels=np.unique(y_unseen1))\n",
    "plt.title('Confusion Matrix - Unseen Data')\n",
    "plt.xlabel('Predicted')"
   ]
  },
  {
   "cell_type": "code",
   "execution_count": 25,
   "id": "4ced4233",
   "metadata": {
    "execution": {
     "iopub.execute_input": "2024-02-05T21:26:09.954239Z",
     "iopub.status.busy": "2024-02-05T21:26:09.953535Z",
     "iopub.status.idle": "2024-02-05T21:26:10.158484Z",
     "shell.execute_reply": "2024-02-05T21:26:10.156880Z"
    },
    "papermill": {
     "duration": 0.228504,
     "end_time": "2024-02-05T21:26:10.164971",
     "exception": false,
     "start_time": "2024-02-05T21:26:09.936467",
     "status": "completed"
    },
    "tags": []
   },
   "outputs": [
    {
     "name": "stdout",
     "output_type": "stream",
     "text": [
      "Confusion Matrix on Validation Data:\n",
      "     0   1\n",
      "0  164   2\n",
      "1    5  88\n"
     ]
    },
    {
     "data": {
      "image/png": "[encoded data removed]",
      "text/plain": [
       "<Figure size 800x600 with 1 Axes>"
      ]
     },
     "metadata": {},
     "output_type": "display_data"
    }
   ],
   "source": [
    "from sklearn.metrics import confusion_matrix\n",
    "import seaborn as sns\n",
    "import matplotlib.pyplot as plt\n",
    "\n",
    "# Make predictions on the validation set\n",
    "y_validate_pred1 = rf_classif1.predict(X_validate1)\n",
    "\n",
    "# Generate and display the confusion matrix for the validation data\n",
    "conf_matrix_validate1 = confusion_matrix(y_validate1, y_validate_pred1)\n",
    "print(\"Confusion Matrix on Validation Data:\")\n",
    "print(pd.DataFrame(conf_matrix_validate1, index=rf_classif1.classes_, columns=rf_classif1.classes_))\n",
    "\n",
    "# Display the confusion matrix for the validation data\n",
    "plt.figure(figsize=(8, 6))\n",
    "sns.heatmap(conf_matrix_validate1, annot=True, fmt=\"d\", cmap=\"Blues\", cbar=False,\n",
    "            xticklabels=np.unique(y_unseen1), yticklabels=np.unique(y_unseen1))\n",
    "plt.title('Confusion Matrix - Validation Data')\n",
    "plt.xlabel('Predicted')\n",
    "plt.ylabel('True')\n",
    "plt.show()\n"
   ]
  },
  {
   "cell_type": "markdown",
   "id": "6afbc6c7",
   "metadata": {
    "papermill": {
     "duration": 0.014811,
     "end_time": "2024-02-05T21:26:10.204968",
     "exception": false,
     "start_time": "2024-02-05T21:26:10.190157",
     "status": "completed"
    },
    "tags": []
   },
   "source": [
    "# **SVM**"
   ]
  },
  {
   "cell_type": "code",
   "execution_count": 26,
   "id": "5907b204",
   "metadata": {
    "execution": {
     "iopub.execute_input": "2024-02-05T21:26:10.238795Z",
     "iopub.status.busy": "2024-02-05T21:26:10.238124Z",
     "iopub.status.idle": "2024-02-05T21:26:10.301317Z",
     "shell.execute_reply": "2024-02-05T21:26:10.299524Z"
    },
    "papermill": {
     "duration": 0.084308,
     "end_time": "2024-02-05T21:26:10.304350",
     "exception": false,
     "start_time": "2024-02-05T21:26:10.220042",
     "status": "completed"
    },
    "tags": []
   },
   "outputs": [
    {
     "name": "stdout",
     "output_type": "stream",
     "text": [
      "Accuracy on Validation Set (SVM): 0.97\n",
      "Confusion Matrix (SVM) on Validation Set:\n",
      "[[164   2]\n",
      " [  5  88]]\n",
      "Classification Report (SVM) on Validation Set:\n",
      "              precision    recall  f1-score   support\n",
      "\n",
      "           0       0.97      0.99      0.98       166\n",
      "           1       0.98      0.95      0.96        93\n",
      "\n",
      "    accuracy                           0.97       259\n",
      "   macro avg       0.97      0.97      0.97       259\n",
      "weighted avg       0.97      0.97      0.97       259\n",
      "\n",
      "Accuracy on Unseen Data (SVM): 0.95\n",
      "Confusion Matrix (SVM) on Unseen Data:\n",
      "[[131   2]\n",
      " [ 12 116]]\n",
      "Classification Report (SVM) on Unseen Data:\n",
      "              precision    recall  f1-score   support\n",
      "\n",
      "           0       0.92      0.98      0.95       133\n",
      "           1       0.98      0.91      0.94       128\n",
      "\n",
      "    accuracy                           0.95       261\n",
      "   macro avg       0.95      0.95      0.95       261\n",
      "weighted avg       0.95      0.95      0.95       261\n",
      "\n"
     ]
    }
   ],
   "source": [
    "from sklearn.svm import SVC\n",
    "from sklearn.preprocessing import StandardScaler\n",
    "from sklearn.metrics import accuracy_score, confusion_matrix, classification_report\n",
    "\n",
    "# Assuming X_train, X_validate, y_train, X_unseen, and y_unseen are already defined from the previous code\n",
    "\n",
    "# Preprocess Data: Standardize features\n",
    "scaler = StandardScaler()\n",
    "X_train_scaled = scaler.fit_transform(X_train1)\n",
    "X_validate_scaled = scaler.transform(X_validate1)\n",
    "X_unseen_scaled = scaler.transform(X_unseen1)\n",
    "\n",
    "# Create and train SVM model\n",
    "svm_classifier = SVC(kernel='rbf', C=1.0, gamma='scale', random_state=42)\n",
    "svm_classifier.fit(X_train_scaled, y_train1)\n",
    "\n",
    "# Make predictions on validation set\n",
    "y_validate_pred_svm = svm_classifier.predict(X_validate_scaled)\n",
    "\n",
    "# Evaluate the performance on validation set\n",
    "accuracy_svm_validate = accuracy_score(y_validate1, y_validate_pred_svm)\n",
    "conf_matrix_svm_validate = confusion_matrix(y_validate1, y_validate_pred_svm)\n",
    "classification_rep_svm_validate = classification_report(y_validate1, y_validate_pred_svm)\n",
    "\n",
    "print(f\"Accuracy on Validation Set (SVM): {accuracy_svm_validate:.2f}\")\n",
    "print(\"Confusion Matrix (SVM) on Validation Set:\")\n",
    "print(conf_matrix_svm_validate)\n",
    "print(\"Classification Report (SVM) on Validation Set:\")\n",
    "print(classification_rep_svm_validate)\n",
    "\n",
    "# Make predictions on unseen data\n",
    "y_unseen_pred_svm = svm_classifier.predict(X_unseen_scaled)\n",
    "\n",
    "# Evaluate the performance on unseen data\n",
    "accuracy_svm_unseen = accuracy_score(y_unseen1, y_unseen_pred_svm)\n",
    "conf_matrix_svm_unseen = confusion_matrix(y_unseen1, y_unseen_pred_svm)\n",
    "classification_rep_svm_unseen = classification_report(y_unseen1, y_unseen_pred_svm)\n",
    "\n",
    "print(f\"Accuracy on Unseen Data (SVM): {accuracy_svm_unseen:.2f}\")\n",
    "print(\"Confusion Matrix (SVM) on Unseen Data:\")\n",
    "print(conf_matrix_svm_unseen)\n",
    "print(\"Classification Report (SVM) on Unseen Data:\")\n",
    "print(classification_rep_svm_unseen)\n"
   ]
  },
  {
   "cell_type": "code",
   "execution_count": 27,
   "id": "842ab1de",
   "metadata": {
    "execution": {
     "iopub.execute_input": "2024-02-05T21:26:10.338198Z",
     "iopub.status.busy": "2024-02-05T21:26:10.337744Z",
     "iopub.status.idle": "2024-02-05T21:26:10.343783Z",
     "shell.execute_reply": "2024-02-05T21:26:10.342980Z"
    },
    "papermill": {
     "duration": 0.026046,
     "end_time": "2024-02-05T21:26:10.346791",
     "exception": false,
     "start_time": "2024-02-05T21:26:10.320745",
     "status": "completed"
    },
    "tags": []
   },
   "outputs": [
    {
     "name": "stdout",
     "output_type": "stream",
     "text": [
      "[[-0.93254822 -0.55894392 -1.03034055 ... -0.58655165 -0.28208136\n",
      "  -0.19560846]\n",
      " [ 1.07233061 -0.55894392  0.97055289 ... -0.58655165 -0.28208136\n",
      "  -0.19560846]\n",
      " [-0.93254822 -0.55894392 -1.03034055 ... -0.58655165 -0.28208136\n",
      "  -0.19560846]\n",
      " ...\n",
      " [ 1.07233061 -0.55894392  0.97055289 ... -0.58655165 -0.28208136\n",
      "  -0.19560846]\n",
      " [-0.93254822 -0.55894392 -1.03034055 ...  1.7048797  -0.28208136\n",
      "  -0.19560846]\n",
      " [ 1.07233061 -0.55894392  0.97055289 ... -0.58655165 -0.28208136\n",
      "  -0.19560846]]\n"
     ]
    }
   ],
   "source": [
    "print(X_train_scaled)"
   ]
  },
  {
   "cell_type": "markdown",
   "id": "49e82e23",
   "metadata": {
    "papermill": {
     "duration": 0.015152,
     "end_time": "2024-02-05T21:26:10.377626",
     "exception": false,
     "start_time": "2024-02-05T21:26:10.362474",
     "status": "completed"
    },
    "tags": []
   },
   "source": [
    "# ANN****"
   ]
  },
  {
   "cell_type": "code",
   "execution_count": 28,
   "id": "136b3024",
   "metadata": {
    "execution": {
     "iopub.execute_input": "2024-02-05T21:26:10.409966Z",
     "iopub.status.busy": "2024-02-05T21:26:10.408936Z",
     "iopub.status.idle": "2024-02-05T21:26:27.926462Z",
     "shell.execute_reply": "2024-02-05T21:26:27.924896Z"
    },
    "papermill": {
     "duration": 17.536644,
     "end_time": "2024-02-05T21:26:27.929315",
     "exception": false,
     "start_time": "2024-02-05T21:26:10.392671",
     "status": "completed"
    },
    "tags": []
   },
   "outputs": [
    {
     "name": "stdout",
     "output_type": "stream",
     "text": [
      "Epoch 1/10\n",
      "32/32 [==============================] - 1s 13ms/step - loss: 0.4388 - accuracy: 0.8376 - val_loss: 0.2591 - val_accuracy: 0.9575\n",
      "Epoch 2/10\n",
      "32/32 [==============================] - 0s 4ms/step - loss: 0.2033 - accuracy: 0.9592 - val_loss: 0.1653 - val_accuracy: 0.9537\n",
      "Epoch 3/10\n",
      "32/32 [==============================] - 0s 4ms/step - loss: 0.1357 - accuracy: 0.9602 - val_loss: 0.1321 - val_accuracy: 0.9575\n",
      "Epoch 4/10\n",
      "32/32 [==============================] - 0s 3ms/step - loss: 0.1044 - accuracy: 0.9741 - val_loss: 0.1162 - val_accuracy: 0.9575\n",
      "Epoch 5/10\n",
      "32/32 [==============================] - 0s 4ms/step - loss: 0.0879 - accuracy: 0.9731 - val_loss: 0.1140 - val_accuracy: 0.9614\n",
      "Epoch 6/10\n",
      "32/32 [==============================] - 0s 4ms/step - loss: 0.0791 - accuracy: 0.9751 - val_loss: 0.1162 - val_accuracy: 0.9575\n",
      "Epoch 7/10\n",
      "32/32 [==============================] - 0s 4ms/step - loss: 0.0692 - accuracy: 0.9771 - val_loss: 0.0999 - val_accuracy: 0.9768\n",
      "Epoch 8/10\n",
      "32/32 [==============================] - 0s 4ms/step - loss: 0.0632 - accuracy: 0.9791 - val_loss: 0.0950 - val_accuracy: 0.9768\n",
      "Epoch 9/10\n",
      "32/32 [==============================] - 0s 4ms/step - loss: 0.0582 - accuracy: 0.9811 - val_loss: 0.0966 - val_accuracy: 0.9768\n",
      "Epoch 10/10\n",
      "32/32 [==============================] - 0s 3ms/step - loss: 0.0539 - accuracy: 0.9831 - val_loss: 0.0981 - val_accuracy: 0.9768\n",
      "9/9 [==============================] - 0s 3ms/step - loss: 0.1735 - accuracy: 0.9464\n",
      "Accuracy on Unseen Data (ANN): 0.95\n"
     ]
    }
   ],
   "source": [
    "import tensorflow as tf\n",
    "from tensorflow.keras.models import Sequential\n",
    "from tensorflow.keras.layers import Dense\n",
    "from sklearn.model_selection import train_test_split\n",
    "from sklearn.preprocessing import StandardScaler\n",
    "# Set random seed for reproducibility\n",
    "\n",
    "\n",
    "# Assuming X_train_scaled, X_validate_scaled, y_train1, X_unseen_scaled, and y_unseen1 are already defined from the previous code\n",
    "\n",
    "# Define the model\n",
    "model = Sequential()\n",
    "\n",
    "# Add input layer and the first hidden layer\n",
    "model.add(Dense(units=64, activation='relu', input_dim=X_train_scaled.shape[1]))\n",
    "\n",
    "# Add a second hidden layer\n",
    "model.add(Dense(units=32, activation='relu'))\n",
    "\n",
    "# Add the output layer\n",
    "model.add(Dense(units=1, activation='sigmoid'))\n",
    "\n",
    "# Compile the model\n",
    "model.compile(optimizer='adam', loss='binary_crossentropy', metrics=['accuracy'])\n",
    "\n",
    "# Train the model on the training set\n",
    "model.fit(X_train_scaled, y_train1, epochs=10, batch_size=32, validation_data=(X_validate_scaled, y_validate1))\n",
    "\n",
    "# Evaluate the model on the unseen data\n",
    "accuracy_unseen_ann = model.evaluate(X_unseen_scaled, y_unseen1)[1]\n",
    "print(f\"Accuracy on Unseen Data (ANN): {accuracy_unseen_ann:.2f}\")\n"
   ]
  },
  {
   "cell_type": "code",
   "execution_count": 29,
   "id": "139381b5",
   "metadata": {
    "execution": {
     "iopub.execute_input": "2024-02-05T21:26:27.970759Z",
     "iopub.status.busy": "2024-02-05T21:26:27.970367Z",
     "iopub.status.idle": "2024-02-05T21:26:28.363339Z",
     "shell.execute_reply": "2024-02-05T21:26:28.362079Z"
    },
    "papermill": {
     "duration": 0.417012,
     "end_time": "2024-02-05T21:26:28.366019",
     "exception": false,
     "start_time": "2024-02-05T21:26:27.949007",
     "status": "completed"
    },
    "tags": []
   },
   "outputs": [
    {
     "name": "stdout",
     "output_type": "stream",
     "text": [
      "9/9 [==============================] - 0s 2ms/step\n",
      "Confusion Matrix for ANN on Validation Data:\n",
      "[[164   2]\n",
      " [  4  89]]\n",
      "Classification Report for ANN on Validation Data:\n",
      "              precision    recall  f1-score   support\n",
      "\n",
      "           0       0.98      0.99      0.98       166\n",
      "           1       0.98      0.96      0.97        93\n",
      "\n",
      "    accuracy                           0.98       259\n",
      "   macro avg       0.98      0.97      0.97       259\n",
      "weighted avg       0.98      0.98      0.98       259\n",
      "\n"
     ]
    },
    {
     "data": {
      "image/png": "[encoded data removed]",
      "text/plain": [
       "<Figure size 800x600 with 1 Axes>"
      ]
     },
     "metadata": {},
     "output_type": "display_data"
    }
   ],
   "source": [
    "# Make predictions on the validation data\n",
    "y_validate_pred_ann = (model.predict(X_validate_scaled) > 0.5).astype(\"int32\")\n",
    "\n",
    "# Flatten the predictions and true labels\n",
    "y_validate_flat = np.squeeze(y_validate1)\n",
    "y_validate_pred_flat = np.squeeze(y_validate_pred_ann)\n",
    "\n",
    "# Generate and display the confusion matrix for the validation data\n",
    "conf_matrix_validate_ann = confusion_matrix(y_validate_flat, y_validate_pred_flat)\n",
    "print(\"Confusion Matrix for ANN on Validation Data:\")\n",
    "print(conf_matrix_validate_ann)\n",
    "\n",
    "# Display the classification report for the validation data\n",
    "print(\"Classification Report for ANN on Validation Data:\")\n",
    "print(classification_report(y_validate_flat, y_validate_pred_flat))\n",
    "\n",
    "# Display a heatmap of the confusion matrix\n",
    "plt.figure(figsize=(8, 6))\n",
    "sns.heatmap(conf_matrix_validate_ann, annot=True, fmt=\"d\", cmap=\"Blues\", cbar=False,\n",
    "            xticklabels=np.unique(y_validate_flat), yticklabels=np.unique(y_validate_flat))\n",
    "plt.title('Confusion Matrix - ANN - Validation Data')\n",
    "plt.xlabel('Predicted')\n",
    "plt.ylabel('True')\n",
    "plt.show()\n"
   ]
  },
  {
   "cell_type": "code",
   "execution_count": 30,
   "id": "6cb0dc70",
   "metadata": {
    "execution": {
     "iopub.execute_input": "2024-02-05T21:26:28.411999Z",
     "iopub.status.busy": "2024-02-05T21:26:28.410276Z",
     "iopub.status.idle": "2024-02-05T21:26:28.420657Z",
     "shell.execute_reply": "2024-02-05T21:26:28.419303Z"
    },
    "papermill": {
     "duration": 0.037144,
     "end_time": "2024-02-05T21:26:28.423822",
     "exception": false,
     "start_time": "2024-02-05T21:26:28.386678",
     "status": "completed"
    },
    "tags": []
   },
   "outputs": [
    {
     "name": "stdout",
     "output_type": "stream",
     "text": [
      "Accuracy on Unseen Data (ANN): 0.95\n"
     ]
    }
   ],
   "source": [
    "print(f\"Accuracy on Unseen Data (ANN): {accuracy_unseen_ann:.2f}\")\n"
   ]
  },
  {
   "cell_type": "code",
   "execution_count": 31,
   "id": "e7940b7f",
   "metadata": {
    "execution": {
     "iopub.execute_input": "2024-02-05T21:26:28.470735Z",
     "iopub.status.busy": "2024-02-05T21:26:28.468906Z",
     "iopub.status.idle": "2024-02-05T21:26:28.736277Z",
     "shell.execute_reply": "2024-02-05T21:26:28.735072Z"
    },
    "papermill": {
     "duration": 0.293296,
     "end_time": "2024-02-05T21:26:28.738789",
     "exception": false,
     "start_time": "2024-02-05T21:26:28.445493",
     "status": "completed"
    },
    "tags": []
   },
   "outputs": [
    {
     "name": "stdout",
     "output_type": "stream",
     "text": [
      "9/9 [==============================] - 0s 2ms/step\n",
      "Confusion Matrix for ANN on Unseen Data:\n",
      "[[132   1]\n",
      " [ 13 115]]\n",
      "Classification Report for ANN on Unseen Data:\n",
      "              precision    recall  f1-score   support\n",
      "\n",
      "           0       0.91      0.99      0.95       133\n",
      "           1       0.99      0.90      0.94       128\n",
      "\n",
      "    accuracy                           0.95       261\n",
      "   macro avg       0.95      0.95      0.95       261\n",
      "weighted avg       0.95      0.95      0.95       261\n",
      "\n"
     ]
    },
    {
     "data": {
      "image/png": "[encoded data removed]",
      "text/plain": [
       "<Figure size 800x600 with 1 Axes>"
      ]
     },
     "metadata": {},
     "output_type": "display_data"
    }
   ],
   "source": [
    "import numpy as np\n",
    "import matplotlib.pyplot as plt\n",
    "import seaborn as sns\n",
    "from sklearn.metrics import confusion_matrix, classification_report\n",
    "\n",
    "# Make predictions on the unseen data\n",
    "y_unseen_pred_ann = (model.predict(X_unseen_scaled) > 0.5).astype(\"int32\")\n",
    "\n",
    "# Flatten the predictions and true labels\n",
    "y_unseen_flat = np.squeeze(y_unseen1)\n",
    "y_unseen_pred_flat = np.squeeze(y_unseen_pred_ann)\n",
    "\n",
    "# Generate and display the confusion matrix for the unseen data\n",
    "conf_matrix_unseen_ann = confusion_matrix(y_unseen_flat, y_unseen_pred_flat)\n",
    "print(\"Confusion Matrix for ANN on Unseen Data:\")\n",
    "print(conf_matrix_unseen_ann)\n",
    "\n",
    "# Display the classification report for the unseen data\n",
    "print(\"Classification Report for ANN on Unseen Data:\")\n",
    "print(classification_report(y_unseen_flat, y_unseen_pred_flat))\n",
    "\n",
    "# Display a heatmap of the confusion matrix\n",
    "plt.figure(figsize=(8, 6))\n",
    "sns.heatmap(conf_matrix_unseen_ann, annot=True, fmt=\"d\", cmap=\"Blues\", cbar=False,\n",
    "            xticklabels=np.unique(y_unseen_flat), yticklabels=np.unique(y_unseen_flat))\n",
    "plt.title('Confusion Matrix - ANN - Unseen Data')\n",
    "plt.xlabel('Predicted')\n",
    "plt.ylabel('True')\n",
    "plt.show()\n"
   ]
  }
 ],
 "metadata": {
  "kaggle": {
   "accelerator": "none",
   "dataSources": [
    {
     "datasetId": 4341109,
     "sourceId": 7457710,
     "sourceType": "datasetVersion"
    }
   ],
   "dockerImageVersionId": 30635,
   "isGpuEnabled": false,
   "isInternetEnabled": true,
   "language": "python",
   "sourceType": "notebook"
  },
  "kernelspec": {
   "display_name": "Python 3",
   "language": "python",
   "name": "python3"
  },
  "language_info": {
   "codemirror_mode": {
    "name": "ipython",
    "version": 3
   },
   "file_extension": ".py",
   "mimetype": "text/x-python",
   "name": "python",
   "nbconvert_exporter": "python",
   "pygments_lexer": "ipython3",
   "version": "3.10.12"
  },
  "papermill": {
   "default_parameters": {},
   "duration": 69.258601,
   "end_time": "2024-02-05T21:26:31.258129",
   "environment_variables": {},
   "exception": null,
   "input_path": "__notebook__.ipynb",
   "output_path": "__notebook__.ipynb",
   "parameters": {},
   "start_time": "2024-02-05T21:25:21.999528",
   "version": "2.4.0"
  }
 },
 "nbformat": 4,
 "nbformat_minor": 5
}
